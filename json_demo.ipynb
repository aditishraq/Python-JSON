{
  "nbformat": 4,
  "nbformat_minor": 0,
  "metadata": {
    "colab": {
      "name": "json_demo.ipynb",
      "provenance": [],
      "collapsed_sections": []
    },
    "kernelspec": {
      "name": "python3",
      "display_name": "Python 3"
    },
    "language_info": {
      "name": "python"
    }
  },
  "cells": [
    {
      "cell_type": "code",
      "execution_count": null,
      "metadata": {
        "id": "ZtZUILReAoGT"
      },
      "outputs": [],
      "source": [
        "import json\n",
        "people_string = '''\n",
        "{\n",
        "    \"people\": [\n",
        "        {\n",
        "            \"name\": \"John Smith\",\n",
        "            \"phone\": \"615-555-7164\",\n",
        "            \"emails\": [\"johnsmith@gmail.com\",\"john.smith@work-place.com\"],\n",
        "            \"has-license\": false\n",
        "        },\n",
        "        {\n",
        "            \"name\": \"Jane Doe\",\n",
        "            \"phone\": \"560-537-7514\",\n",
        "            \"emails\": null,\n",
        "            \"has-license\": true\n",
        "        }\n",
        "    ]\n",
        "}\n",
        "'''"
      ]
    },
    {
      "cell_type": "code",
      "source": [
        "data = json.loads(people_string)\n",
        "\n",
        "print(type(data))\n",
        "print(data)"
      ],
      "metadata": {
        "colab": {
          "base_uri": "https://localhost:8080/"
        },
        "id": "ZGLNeY0KBpDZ",
        "outputId": "bc55860f-2e6b-47f1-9380-cb6c6d3864f8"
      },
      "execution_count": null,
      "outputs": [
        {
          "output_type": "stream",
          "name": "stdout",
          "text": [
            "<class 'dict'>\n",
            "{'people': [{'name': 'John Smith', 'phone': '615-555-7164', 'emails': ['johnsmith@gmail.com', 'john.smith@work-place.com'], 'has-license': False}, {'name': 'Jane Doe', 'phone': '560-537-7514', 'emails': None, 'has-license': True}]}\n"
          ]
        }
      ]
    },
    {
      "cell_type": "code",
      "source": [
        "print(type(data['people']))\n",
        "print(data['people'])"
      ],
      "metadata": {
        "colab": {
          "base_uri": "https://localhost:8080/"
        },
        "id": "MbQgxYFzCgOv",
        "outputId": "e6ffd20a-345c-47ef-a9ee-e59d1ca894e0"
      },
      "execution_count": null,
      "outputs": [
        {
          "output_type": "stream",
          "name": "stdout",
          "text": [
            "<class 'list'>\n",
            "[{'name': 'John Smith', 'phone': '615-555-7164', 'emails': ['johnsmith@gmail.com', 'john.smith@work-place.com'], 'has-license': False}, {'name': 'Jane Doe', 'phone': '560-537-7514', 'emails': None, 'has-license': True}]\n"
          ]
        }
      ]
    },
    {
      "cell_type": "code",
      "source": [
        "for person in data['people']:\n",
        "  print(person)"
      ],
      "metadata": {
        "colab": {
          "base_uri": "https://localhost:8080/"
        },
        "id": "d4m1cBdaDiQQ",
        "outputId": "65435391-1f2c-45c8-d994-5476652e0a0f"
      },
      "execution_count": null,
      "outputs": [
        {
          "output_type": "stream",
          "name": "stdout",
          "text": [
            "{'name': 'John Smith', 'phone': '615-555-7164', 'emails': ['johnsmith@gmail.com', 'john.smith@work-place.com'], 'has-license': False}\n",
            "{'name': 'Jane Doe', 'phone': '560-537-7514', 'emails': None, 'has-license': True}\n"
          ]
        }
      ]
    },
    {
      "cell_type": "code",
      "source": [
        "for person in data['people']:\n",
        "  print(person['name'])"
      ],
      "metadata": {
        "colab": {
          "base_uri": "https://localhost:8080/"
        },
        "id": "g1HSi41KEGg7",
        "outputId": "fdf3058c-f0be-4146-94df-d7e71aedd441"
      },
      "execution_count": null,
      "outputs": [
        {
          "output_type": "stream",
          "name": "stdout",
          "text": [
            "John Smith\n",
            "Jane Doe\n"
          ]
        }
      ]
    },
    {
      "cell_type": "code",
      "source": [
        "data = json.loads(people_string)\n",
        " \n",
        "for person in data['people']:\n",
        "  del person['phone']\n",
        "\n",
        "new_string = json.dumps(data)\n",
        "print(new_string)"
      ],
      "metadata": {
        "colab": {
          "base_uri": "https://localhost:8080/"
        },
        "id": "E5_wNtaZEMrq",
        "outputId": "a361560e-a0df-43eb-8483-7c015988225e"
      },
      "execution_count": null,
      "outputs": [
        {
          "output_type": "stream",
          "name": "stdout",
          "text": [
            "{\"people\": [{\"name\": \"John Smith\", \"emails\": [\"johnsmith@gmail.com\", \"john.smith@work-place.com\"], \"has-license\": false}, {\"name\": \"Jane Doe\", \"emails\": null, \"has-license\": true}]}\n"
          ]
        }
      ]
    },
    {
      "cell_type": "code",
      "source": [
        "new_string = json.dumps(data, indent=2)\n",
        "print(new_string)"
      ],
      "metadata": {
        "colab": {
          "base_uri": "https://localhost:8080/"
        },
        "id": "kB2UJQCXFCfL",
        "outputId": "d8d4215d-1a3a-41d4-bbe5-2415f6ef0bea"
      },
      "execution_count": null,
      "outputs": [
        {
          "output_type": "stream",
          "name": "stdout",
          "text": [
            "{\n",
            "  \"people\": [\n",
            "    {\n",
            "      \"name\": \"John Smith\",\n",
            "      \"emails\": [\n",
            "        \"johnsmith@gmail.com\",\n",
            "        \"john.smith@work-place.com\"\n",
            "      ],\n",
            "      \"has-license\": false\n",
            "    },\n",
            "    {\n",
            "      \"name\": \"Jane Doe\",\n",
            "      \"emails\": null,\n",
            "      \"has-license\": true\n",
            "    }\n",
            "  ]\n",
            "}\n"
          ]
        }
      ]
    },
    {
      "cell_type": "code",
      "source": [
        "new_string = json.dumps(data, indent=2,sort_keys=True)\n",
        "print(new_string)"
      ],
      "metadata": {
        "colab": {
          "base_uri": "https://localhost:8080/"
        },
        "id": "48SJfTWLIMK1",
        "outputId": "5c3ca84a-acc2-4884-9f70-67d3bc65170a"
      },
      "execution_count": null,
      "outputs": [
        {
          "output_type": "stream",
          "name": "stdout",
          "text": [
            "{\n",
            "  \"people\": [\n",
            "    {\n",
            "      \"emails\": [\n",
            "        \"johnsmith@gmail.com\",\n",
            "        \"john.smith@work-place.com\"\n",
            "      ],\n",
            "      \"has-license\": false,\n",
            "      \"name\": \"John Smith\"\n",
            "    },\n",
            "    {\n",
            "      \"emails\": null,\n",
            "      \"has-license\": true,\n",
            "      \"name\": \"Jane Doe\"\n",
            "    }\n",
            "  ]\n",
            "}\n"
          ]
        }
      ]
    },
    {
      "cell_type": "code",
      "source": [
        ""
      ],
      "metadata": {
        "id": "Wp8DXHmIIVCc"
      },
      "execution_count": null,
      "outputs": []
    }
  ]
}